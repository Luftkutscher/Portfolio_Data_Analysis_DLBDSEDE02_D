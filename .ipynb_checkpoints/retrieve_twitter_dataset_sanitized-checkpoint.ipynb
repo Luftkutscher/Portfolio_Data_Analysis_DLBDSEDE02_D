{
 "cells": [
  {
   "cell_type": "code",
   "execution_count": 6,
   "id": "46640aa6-bb43-400a-84a7-7694c2dde134",
   "metadata": {},
   "outputs": [],
   "source": [
    "# first, install tweepy with the following command: conda install -c conda-forge tweepy\n",
    "\n",
    "import tweepy\n",
    "import json\n",
    "import pandas as pd\n",
    "\n",
    "from time import sleep\n",
    "\n",
    "client = tweepy.Client(\"YOUR SECRET HERE\", wait_on_rate_limit=True)\n",
    "\n",
    "result = []; tweets = []; query=\"zurich -is:retweet lang:en\"\n",
    "\n",
    "for response in tweepy.Paginator(client.search_recent_tweets, query=query, tweet_fields=['entities'], user_fields=['name', 'id'], expansions=['author_id'], max_results=100, limit=2500): #for retrieving final dataset, use max_results=100 and limit=1000\n",
    "    usersdict = {x.id:x.username for x in response.includes['users']}\n",
    "    sleep(1)\n",
    "    for tweet in response.data:\n",
    "        tweets.append(tweet)\n",
    "        result.append({'username': usersdict[tweet.author_id], 'text': tweet.text, 'entities': tweet.entities, 'context_annotations': tweet.context_annotations})\n",
    "          \n",
    "#store the data in a pandas dataframe            \n",
    "df = pd.DataFrame(result)\n",
    "\n",
    "# storing the data in JSON format\n",
    "df.to_json('tweets_2500.json', orient = 'split', compression = 'infer', index = 'true')\n",
    "# uncomment below line to additionally store the data in a JSONL file\n",
    "# df.to_json('tweets_2500.jsonl', orient = 'records', lines=True)\n"
   ]
  },
  {
   "cell_type": "code",
   "execution_count": null,
   "id": "4c6cc873-8587-4dd0-a90d-baa97f3021f7",
   "metadata": {},
   "outputs": [],
   "source": []
  }
 ],
 "metadata": {
  "kernelspec": {
   "display_name": "Python 3 (ipykernel)",
   "language": "python",
   "name": "python3"
  },
  "language_info": {
   "codemirror_mode": {
    "name": "ipython",
    "version": 3
   },
   "file_extension": ".py",
   "mimetype": "text/x-python",
   "name": "python",
   "nbconvert_exporter": "python",
   "pygments_lexer": "ipython3",
   "version": "3.11.5"
  },
  "toc-showcode": true
 },
 "nbformat": 4,
 "nbformat_minor": 5
}
